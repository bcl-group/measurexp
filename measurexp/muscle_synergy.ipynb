{
 "cells": [
  {
   "cell_type": "code",
   "execution_count": 2,
   "metadata": {},
   "outputs": [],
   "source": [
    "import pandas as pd\n",
    "import matplotlib.pyplot as plt\n",
    "plt.rcParams[\"font.family\"] = \"IPAexGothic\""
   ]
  },
  {
   "cell_type": "code",
   "execution_count": 3,
   "metadata": {},
   "outputs": [
    {
     "data": {
      "image/png": "[encoded data removed]",
      "text/plain": [
       "<Figure size 460.8x86.4 with 1 Axes>"
      ]
     },
     "metadata": {
      "needs_background": "light"
     },
     "output_type": "display_data"
    }
   ],
   "source": [
    "# 筋シナジークラス\n",
    "class MuscleSynergy:\n",
    "    \"\"\"\n",
    "    筋シナジーを扱うのクラス    \n",
    "\n",
    "    Examples\n",
    "    --------\n",
    "    >>> ms = MuscleSynergy()\n",
    "    >>> ms.read('220101-01-M-w.csv', '220101-01-M-h.csv', 'muscles.csv')\n",
    "    >>> ms.plot_synergy()\n",
    "    \"\"\"\n",
    "\n",
    "    def __init__(self):\n",
    "        # 筋シナジーの基底ベクトル (筋肉 x シナジー)\n",
    "        self.df_w: pd.DataFrame = None\n",
    "        # 筋シナジーの時間変化\n",
    "        self.df_h: pd.DataFrame = None\n",
    "        # 筋肉の種類\n",
    "        self.muscles: list = []\n",
    "\n",
    "    def plot_synergy(self, synergy_idx: int = None):\n",
    "        if synergy_idx is not None:\n",
    "            fig, ax = plt.subplots(figsize=(6.4, 1.2))\n",
    "            ax.set_ylim(0, 1)\n",
    "            ax.set_ylabel(f'$W_{synergy_idx}$')\n",
    "            try:\n",
    "                self.df_w.iloc[:, synergy_idx-1].plot.bar(color=self.muscles.iloc[:,1], ax=ax, width=0.8, xlabel='')\n",
    "            except IndexError as err:\n",
    "                print(err)\n",
    "                print('エラー: 筋シナジーの番号を誤っています。')\n",
    "\n",
    "            plt.show()\n",
    "        else:\n",
    "            fig, ax = plt.subplots(3, figsize=(6.4, 1.2*3))\n",
    "            for i in range(self.df_w.columns.size):\n",
    "                ax[i].set_ylim(0, 1)\n",
    "                self.df_w.iloc[:,i].plot.bar(\n",
    "                    color=self.muscles.iloc[:,1], \n",
    "                    ax=ax[i], \n",
    "                    width=0.8, \n",
    "                    xlabel='')\n",
    "                ax[i].set_ylabel(f'$W_{i+1}$')\n",
    "                if i == 2: continue\n",
    "                ax[i].tick_params(labelbottom=False)\n",
    "            fig.tight_layout()\n",
    "            plt.show()\n",
    "\n",
    "    def read(self, w_file: str, h_file: str, muscles_file):\n",
    "        try:\n",
    "            self.df_w = pd.read_csv(w_file, header=None)\n",
    "        except FileNotFoundError as err:\n",
    "            print(err)\n",
    "            print('エラー: 筋シナジーの基底ベクトルのデータファイル (CSV) を指定してください。')\n",
    "\n",
    "        try:\n",
    "            self.df_h = pd.read_csv(h_file, header=None)\n",
    "        except FileNotFoundError as err:\n",
    "            print(err)\n",
    "            print('エラー: 筋シナジーの時間変化のデータファイル (CSV) を指定してください。')\n",
    "\n",
    "        try:\n",
    "            self.muscles = pd.read_csv(muscles_file, header=None)\n",
    "        except FileNotFoundError as err:\n",
    "            print(err)\n",
    "            print('エラー: 筋肉定義ファイル (CSV) を指定してください。')\n",
    "\n",
    "        self.df_w.insert(0, '筋肉', self.muscles.iloc[:,0])\n",
    "        self.df_w.set_index(['筋肉'], inplace=True)\n",
    "        self.df_w.columns = [ f'筋シナジー {_ + 1}' for _ in self.df_w.columns]\n",
    "\n",
    "\n",
    "\n",
    "ms = MuscleSynergy()\n",
    "ms.read('test-w.csv', 'test-h.csv', 'muscles.csv')\n",
    "ms.plot_synergy(3)"
   ]
  },
  {
   "cell_type": "code",
   "execution_count": 149,
   "metadata": {},
   "outputs": [
    {
     "data": {
      "image/png": "[encoded data removed]",
      "text/plain": [
       "<Figure size 460.8x259.2 with 3 Axes>"
      ]
     },
     "metadata": {
      "needs_background": "light"
     },
     "output_type": "display_data"
    }
   ],
   "source": [
    "df_w = ms.df_w\n",
    "\n",
    "fig, ax = plt.subplots(df_w.columns.size, figsize=(6.4, 1.2*3))\n",
    "for i in range(df_w.columns.size):\n",
    "    ax[i].set_ylim(0, 1)\n",
    "    df_w.iloc[:,i].plot.bar(color=ms.muscles.iloc[:,1], ax=ax[i], width=0.8, xlabel='')\n",
    "    ax[i].set_ylabel(f'$W_{i+1}$')\n",
    "    if i == 2: continue\n",
    "    ax[i].tick_params(labelbottom=False)\n",
    "fig.tight_layout()\n",
    "plt.show()"
   ]
  },
  {
   "cell_type": "code",
   "execution_count": 139,
   "metadata": {},
   "outputs": [
    {
     "data": {
      "text/plain": [
       "3"
      ]
     },
     "execution_count": 139,
     "metadata": {},
     "output_type": "execute_result"
    }
   ],
   "source": [
    "df_w.columns.size"
   ]
  },
  {
   "cell_type": "code",
   "execution_count": null,
   "metadata": {},
   "outputs": [],
   "source": []
  }
 ],
 "metadata": {
  "interpreter": {
   "hash": "0a9f78bbd9945577273209704ae5cfeda6441623d00fcb3735ad464d32c6f595"
  },
  "kernelspec": {
   "display_name": "Python 3.9.7 ('base')",
   "language": "python",
   "name": "python3"
  },
  "language_info": {
   "codemirror_mode": {
    "name": "ipython",
    "version": 3
   },
   "file_extension": ".py",
   "mimetype": "text/x-python",
   "name": "python",
   "nbconvert_exporter": "python",
   "pygments_lexer": "ipython3",
   "version": "3.9.7"
  },
  "orig_nbformat": 4
 },
 "nbformat": 4,
 "nbformat_minor": 2
}
